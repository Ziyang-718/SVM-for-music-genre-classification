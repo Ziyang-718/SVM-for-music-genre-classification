{
 "cells": [
  {
   "cell_type": "code",
   "execution_count": 1,
   "metadata": {},
   "outputs": [
    {
     "name": "stdout",
     "output_type": "stream",
     "text": [
      "(9990, 58)\n"
     ]
    }
   ],
   "source": [
    "import pyomo.environ as pyo\n",
    "import numpy as np\n",
    "import matplotlib.pyplot as plt\n",
    "from sklearn.model_selection import train_test_split\n",
    "from sklearn.preprocessing import StandardScaler, LabelEncoder\n",
    "from sklearn.svm import SVC\n",
    "from sklearn.metrics import classification_report, accuracy_score, ConfusionMatrixDisplay\n",
    "from sklearn.decomposition import PCA\n",
    "from sklearn.preprocessing import LabelBinarizer\n",
    "\n",
    "import pandas as pd\n",
    "\n",
    "data = pd.read_csv('Data/features_3_sec.csv')\n",
    "data = data.drop(['filename'], axis=1)\n",
    "\n",
    "y = LabelEncoder().fit_transform(data['label'])\n",
    "data = data.drop(['label'], axis=1)\n",
    "\n",
    "X = data\n",
    "X_train, X_test, y_train, y_test = train_test_split(X, y, test_size=0.2, random_state=42)\n",
    "scaler = StandardScaler()\n",
    "X_train = scaler.fit_transform(X_train)\n",
    "X_test = scaler.transform(X_test)\n",
    "\n",
    "print(data.shape)"
   ]
  },
  {
   "cell_type": "code",
   "execution_count": 11,
   "metadata": {},
   "outputs": [
    {
     "name": "stdout",
     "output_type": "stream",
     "text": [
      "7992 58\n"
     ]
    }
   ],
   "source": [
    "models = []\n",
    "n_samples, n_features = X_train.shape\n",
    "print(n_samples, n_features)\n",
    "for k in range(10):\n",
    "    y_train_k = np.where(y_train == k, 1, -1)\n",
    "    model = pyo.ConcreteModel()\n",
    "\n",
    "    model.I = pyo.RangeSet(0, n_samples - 1)  # Sample indices\n",
    "    model.J = pyo.RangeSet(0, n_features - 1)  # Feature indices\n",
    "\n",
    "    def X_init(model, i, j):\n",
    "        return X_train[i, j]\n",
    "\n",
    "    def y_init(model, i):\n",
    "        return y_train_k[i]\n",
    "    \n",
    "    model.X = pyo.Param(model.I, model.J, initialize=X_init, within=pyo.Reals)\n",
    "    model.y = pyo.Param(model.I, initialize=y_init, within=pyo.Reals)\n",
    "\n",
    "    model.w = pyo.Var(model.J, domain=pyo.Reals)  # Weight vector\n",
    "    model.b = pyo.Var(domain=pyo.Reals)  # Bias term\n",
    "    model.slack = pyo.Var(model.I, domain=pyo.NonNegativeReals)  # Slack variables\n",
    "\n",
    "    C = 1.0\n",
    "\n",
    "    def objective_rule(model):\n",
    "        regularization = 0.5 * sum(model.w[j]**2 for j in model.J)\n",
    "        slack = C * sum(model.slack[i] for i in model.I)\n",
    "        return regularization + slack\n",
    "    model.Objective = pyo.Objective(rule = objective_rule, sense = pyo.minimize)\n",
    "\n",
    "    def constraints(model, i):\n",
    "        return model.y[i] * (sum(model.w[j] * model.X[i,j] for j in model.J)\n",
    "                             + model.b) >= 1 - model.slack[i]\n",
    "    \n",
    "    model.constraints = pyo.Constraint(model.I, rule = constraints)\n",
    "    models.append(model)\n",
    "    "
   ]
  },
  {
   "cell_type": "code",
   "execution_count": 14,
   "metadata": {},
   "outputs": [
    {
     "name": "stdout",
     "output_type": "stream",
     "text": [
      "solving for class 0\n",
      "Optimal solution found for class 0\n",
      "solving for class 1\n",
      "Optimal solution found for class 1\n",
      "solving for class 2\n",
      "Optimal solution found for class 2\n",
      "solving for class 3\n",
      "Optimal solution found for class 3\n",
      "solving for class 4\n",
      "Optimal solution found for class 4\n",
      "solving for class 5\n",
      "Optimal solution found for class 5\n",
      "solving for class 6\n",
      "Optimal solution found for class 6\n",
      "solving for class 7\n",
      "Optimal solution found for class 7\n",
      "solving for class 8\n",
      "Optimal solution found for class 8\n",
      "solving for class 9\n",
      "Optimal solution found for class 9\n"
     ]
    }
   ],
   "source": [
    "solver = pyo.SolverFactory('ipopt', executable = '/Users/aoleicao/Documents/python/6800/MacOS/ipopt')\n",
    "w_list = []\n",
    "b_list = []\n",
    "\n",
    "for k, model in enumerate(models):\n",
    "    print(f'solving for class {k}')\n",
    "    result = solver.solve(model)\n",
    "\n",
    "    print(f\"Optimal solution found for class {k}\")\n",
    "        # Extract the optimal weights and bias\n",
    "    w_opt = np.array([pyo.value(model.w[j]) for j in model.J])\n",
    "    b_opt = pyo.value(model.b)\n",
    "    w_list.append(w_opt)\n",
    "    b_list.append(b_opt)"
   ]
  },
  {
   "cell_type": "code",
   "execution_count": 23,
   "metadata": {},
   "outputs": [
    {
     "name": "stdout",
     "output_type": "stream",
     "text": [
      "2.5805371010902842\n",
      "2.149518112646749\n",
      "1.1770936516731163\n",
      "-0.22021461832615108\n",
      "1.498966679400012\n",
      "0.1046944849875513\n",
      "0.4439257490358979\n",
      "-2.5636811566338946\n",
      "1.2773737534796399\n",
      "4.723568517630072e-08\n",
      "pppppredicted: 0 and true: 4\n"
     ]
    }
   ],
   "source": [
    "test = X_test[0]\n",
    "label = y_test[0]\n",
    "decision_values_sample = np.zeros(len(models))\n",
    "for k in range(len(models)):\n",
    "    if w_list[k] is not None:\n",
    "        decision_values_sample[k] = np.dot(test, w_list[k])\n",
    "        print(decision_values_sample[k])\n",
    "predicted_class = np.argmax(decision_values_sample)\n",
    "print(f'pppppredicted: {predicted_class} and true: {label}')"
   ]
  },
  {
   "cell_type": "code",
   "execution_count": 25,
   "metadata": {},
   "outputs": [
    {
     "data": {
      "image/png": "[encoded data removed]",
      "text/plain": [
       "<Figure size 800x600 with 1 Axes>"
      ]
     },
     "metadata": {},
     "output_type": "display_data"
    }
   ],
   "source": [
    "import matplotlib.pyplot as plt\n",
    "\n",
    "# Plot the decision values for the selected sample\n",
    "plt.figure(figsize=(8, 6))\n",
    "plt.bar(range(len(models)), decision_values_sample, tick_label=range(len(models)))\n",
    "plt.axhline(0, color='red', linestyle='--')\n",
    "plt.xlabel(\"Class\")\n",
    "plt.ylabel(\"Decision Value\")\n",
    "plt.title(f\"Decision Values for Test Sample {0}\")\n",
    "plt.show()"
   ]
  },
  {
   "cell_type": "code",
   "execution_count": null,
   "metadata": {},
   "outputs": [
    {
     "name": "stdout",
     "output_type": "stream",
     "text": [
      "Classification Report:\n",
      "              precision    recall  f1-score   support\n",
      "\n",
      "           0       0.67      0.71      0.69       208\n",
      "           1       0.89      0.97      0.93       203\n",
      "           2       0.60      0.62      0.61       186\n",
      "           3       0.61      0.49      0.54       199\n",
      "           4       0.76      0.71      0.73       218\n",
      "           5       0.71      0.74      0.73       192\n",
      "           6       0.78      0.92      0.84       204\n",
      "           7       0.73      0.87      0.79       180\n",
      "           8       0.69      0.62      0.65       211\n",
      "           9       0.21      0.17      0.19       197\n",
      "\n",
      "    accuracy                           0.68      1998\n",
      "   macro avg       0.67      0.68      0.67      1998\n",
      "weighted avg       0.67      0.68      0.67      1998\n",
      "\n",
      "Accuracy: 0.6806806806806807\n"
     ]
    }
   ],
   "source": [
    "decision_values = np.zeros((X_test.shape[0], len(models)))  # Shape: (num_samples, num_classes)\n",
    "\n",
    "for k in range(len(models)):\n",
    "    if w_list[k] is not None:  # Ensure the model for class k solved successfully\n",
    "        decision_values[:, k] = np.dot(X_test, w_list[k]) + b_list[k]\n",
    "\n",
    "# Assign the class with the highest decision value\n",
    "y_pred = np.argmax(decision_values, axis=1)\n",
    "\n",
    "# Evaluate the results\n",
    "from sklearn.metrics import classification_report, accuracy_score\n",
    "\n",
    "print(\"Classification Report:\")\n",
    "print(classification_report(y_test, y_pred))\n",
    "print(\"Accuracy:\", accuracy_score(y_test, y_pred))"
   ]
  }
 ],
 "metadata": {
  "kernelspec": {
   "display_name": "Python 3",
   "language": "python",
   "name": "python3"
  },
  "language_info": {
   "codemirror_mode": {
    "name": "ipython",
    "version": 3
   },
   "file_extension": ".py",
   "mimetype": "text/x-python",
   "name": "python",
   "nbconvert_exporter": "python",
   "pygments_lexer": "ipython3",
   "version": "3.12.3"
  }
 },
 "nbformat": 4,
 "nbformat_minor": 2
}
